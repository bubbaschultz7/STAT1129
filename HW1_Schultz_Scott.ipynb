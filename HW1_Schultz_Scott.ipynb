{
 "cells": [
  {
   "cell_type": "code",
   "execution_count": 8,
   "id": "bf86a51c",
   "metadata": {},
   "outputs": [],
   "source": [
    "favcolors = ['Green', 'Red', 'Orange', 'Blue' ] #Number 1. List of Favorite Colors"
   ]
  },
  {
   "cell_type": "code",
   "execution_count": 9,
   "id": "6148dbb0",
   "metadata": {},
   "outputs": [
    {
     "data": {
      "text/plain": [
       "['Green', 'Red', 'Orange', 'Blue']"
      ]
     },
     "execution_count": 9,
     "metadata": {},
     "output_type": "execute_result"
    }
   ],
   "source": [
    "favcolors"
   ]
  },
  {
   "cell_type": "code",
   "execution_count": 30,
   "id": "35472f02",
   "metadata": {},
   "outputs": [
    {
     "name": "stdout",
     "output_type": "stream",
     "text": [
      "[30, 33, 36, 39, 42, 45, 48, 51, 54, 57, 60]\n"
     ]
    }
   ],
   "source": [
    "numbers= list(range(30,63,3)) #Number 2. List of Numbers\n",
    "print(numbers)"
   ]
  },
  {
   "cell_type": "code",
   "execution_count": 34,
   "id": "54bb446c",
   "metadata": {},
   "outputs": [
    {
     "data": {
      "text/plain": [
       "(30, 33, 36, 39, 42, 45, 48, 51, 54, 57, 60)"
      ]
     },
     "execution_count": 34,
     "metadata": {},
     "output_type": "execute_result"
    }
   ],
   "source": [
    "tuple(numbers) #Transfer to Tuple"
   ]
  },
  {
   "cell_type": "code",
   "execution_count": 35,
   "id": "23d86dbc",
   "metadata": {},
   "outputs": [],
   "source": [
    "empty_list = [] #Number 3. Created an Empty List"
   ]
  },
  {
   "cell_type": "code",
   "execution_count": 55,
   "id": "4cc62c69",
   "metadata": {},
   "outputs": [
    {
     "name": "stdout",
     "output_type": "stream",
     "text": [
      "[]\n"
     ]
    }
   ],
   "source": [
    "print(empty_list)"
   ]
  },
  {
   "cell_type": "code",
   "execution_count": 68,
   "id": "0291a1cd",
   "metadata": {},
   "outputs": [],
   "source": [
    "for number in range(0,6):\n",
    "    empty_list += [number] #Added a range for the list"
   ]
  },
  {
   "cell_type": "code",
   "execution_count": 69,
   "id": "edf16c6a",
   "metadata": {},
   "outputs": [
    {
     "data": {
      "text/plain": [
       "[0, 1, 2, 3, 4, 5]"
      ]
     },
     "execution_count": 69,
     "metadata": {},
     "output_type": "execute_result"
    }
   ],
   "source": [
    "empty_list"
   ]
  },
  {
   "cell_type": "code",
   "execution_count": 70,
   "id": "cf2c8782",
   "metadata": {
    "scrolled": true
   },
   "outputs": [
    {
     "name": "stdout",
     "output_type": "stream",
     "text": [
      "[0, 1, 3, 4, 5]\n"
     ]
    }
   ],
   "source": [
    "empty_list.remove(2)\n",
    "print(empty_list) #Removed 2"
   ]
  },
  {
   "cell_type": "code",
   "execution_count": 77,
   "id": "28ac015f",
   "metadata": {},
   "outputs": [],
   "source": [
    "empty_list.insert(2,2.0) #2.0 Inserted"
   ]
  },
  {
   "cell_type": "code",
   "execution_count": 78,
   "id": "fa04e127",
   "metadata": {},
   "outputs": [
    {
     "data": {
      "text/plain": [
       "[0, 1, 2.0, 3, 4, 5]"
      ]
     },
     "execution_count": 78,
     "metadata": {},
     "output_type": "execute_result"
    }
   ],
   "source": [
    "empty_list"
   ]
  },
  {
   "cell_type": "code",
   "execution_count": 79,
   "id": "3681003f",
   "metadata": {},
   "outputs": [
    {
     "name": "stdout",
     "output_type": "stream",
     "text": [
      "6\n",
      "5\n",
      "0\n"
     ]
    }
   ],
   "source": [
    "print(len(empty_list)) #Print Length\n",
    "print(max(empty_list)) #Print Max\n",
    "print(min(empty_list)) #Print Min"
   ]
  },
  {
   "cell_type": "code",
   "execution_count": 90,
   "id": "3a9be1ad",
   "metadata": {},
   "outputs": [
    {
     "name": "stdout",
     "output_type": "stream",
     "text": [
      "[1, 2, 3, 4, 5, 6, 7, 8, 9, 10]\n"
     ]
    }
   ],
   "source": [
    "nums = list(range(1,11)) #List from 1-10\n",
    "print(nums)"
   ]
  },
  {
   "cell_type": "code",
   "execution_count": 91,
   "id": "84ed7267",
   "metadata": {},
   "outputs": [
    {
     "data": {
      "text/plain": [
       "55"
      ]
     },
     "execution_count": 91,
     "metadata": {},
     "output_type": "execute_result"
    }
   ],
   "source": [
    "sum(nums) #Add all numbers up"
   ]
  },
  {
   "cell_type": "code",
   "execution_count": null,
   "id": "d1a07234",
   "metadata": {},
   "outputs": [],
   "source": []
  }
 ],
 "metadata": {
  "kernelspec": {
   "display_name": "Python 3",
   "language": "python",
   "name": "python3"
  },
  "language_info": {
   "codemirror_mode": {
    "name": "ipython",
    "version": 3
   },
   "file_extension": ".py",
   "mimetype": "text/x-python",
   "name": "python",
   "nbconvert_exporter": "python",
   "pygments_lexer": "ipython3",
   "version": "3.8.8"
  }
 },
 "nbformat": 4,
 "nbformat_minor": 5
}
